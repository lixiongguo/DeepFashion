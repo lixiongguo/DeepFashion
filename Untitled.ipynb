{
 "cells": [
  {
   "cell_type": "code",
   "execution_count": 7,
   "id": "1bfba03c",
   "metadata": {},
   "outputs": [],
   "source": [
    "import numpy as np"
   ]
  },
  {
   "cell_type": "code",
   "execution_count": 8,
   "id": "eaba7ec4",
   "metadata": {},
   "outputs": [
    {
     "data": {
      "text/plain": [
       "'1.23.5'"
      ]
     },
     "execution_count": 8,
     "metadata": {},
     "output_type": "execute_result"
    }
   ],
   "source": [
    "np.__version__"
   ]
  },
  {
   "cell_type": "code",
   "execution_count": 4,
   "id": "02dfb8a7",
   "metadata": {},
   "outputs": [],
   "source": [
    "import sys"
   ]
  },
  {
   "cell_type": "code",
   "execution_count": 5,
   "id": "23907902",
   "metadata": {},
   "outputs": [
    {
     "data": {
      "text/plain": [
       "'3.10.9 | packaged by conda-forge | (main, Jan 11 2023, 15:15:40) [MSC v.1916 64 bit (AMD64)]'"
      ]
     },
     "execution_count": 5,
     "metadata": {},
     "output_type": "execute_result"
    }
   ],
   "source": [
    "sys.version"
   ]
  },
  {
   "cell_type": "code",
   "execution_count": 13,
   "id": "a9e8e411",
   "metadata": {},
   "outputs": [
    {
     "name": "stdout",
     "output_type": "stream",
     "text": [
      "Mesh Points:\n",
      "0 [0.0, 0.0, 0.0]\n",
      "1 [2.0, 0.0, 0.0]\n",
      "2 [2.0, 2.0, 0.0]\n",
      "3 [0.0, 2.0, 0.0]\n",
      "4 [0.0, 0.0, 12.0]\n",
      "5 [2.0, 0.0, 12.0]\n",
      "6 [2.0, 2.0, 12.0]\n",
      "7 [0.0, 2.0, 12.0]\n",
      "8 [2.0, 2.0, 6.0]\n",
      "9 [0.0, 0.0, 6.0]\n",
      "10 [0.0, 2.0, 6.0]\n",
      "11 [2.0, 0.0, 6.0]\n",
      "Point numbers in tetrahedra:\n",
      "0 [2, 10, 0, 8]\n",
      "1 [2, 0, 1, 8]\n",
      "2 [4, 11, 9, 8]\n",
      "3 [0, 10, 9, 8]\n",
      "4 [6, 10, 4, 7]\n",
      "5 [4, 11, 8, 5]\n",
      "6 [0, 11, 1, 8]\n",
      "7 [2, 10, 3, 0]\n",
      "8 [6, 10, 8, 4]\n",
      "9 [5, 4, 6, 8]\n",
      "10 [0, 11, 8, 9]\n",
      "11 [4, 10, 8, 9]\n"
     ]
    },
    {
     "ename": "ModuleNotFoundError",
     "evalue": "No module named 'pyvtk'",
     "output_type": "error",
     "traceback": [
      "\u001b[1;31m---------------------------------------------------------------------------\u001b[0m",
      "\u001b[1;31mModuleNotFoundError\u001b[0m                       Traceback (most recent call last)",
      "Cell \u001b[1;32mIn[13], line 23\u001b[0m\n\u001b[0;32m     21\u001b[0m \u001b[38;5;28;01mfor\u001b[39;00m i, t \u001b[38;5;129;01min\u001b[39;00m \u001b[38;5;28menumerate\u001b[39m(mesh\u001b[38;5;241m.\u001b[39melements):\n\u001b[0;32m     22\u001b[0m     \u001b[38;5;28mprint\u001b[39m(i,t)\n\u001b[1;32m---> 23\u001b[0m \u001b[43mmesh\u001b[49m\u001b[38;5;241;43m.\u001b[39;49m\u001b[43mwrite_vtk\u001b[49m\u001b[43m(\u001b[49m\u001b[38;5;124;43m\"\u001b[39;49m\u001b[38;5;124;43mtest.vtk\u001b[39;49m\u001b[38;5;124;43m\"\u001b[39;49m\u001b[43m)\u001b[49m\n",
      "File \u001b[1;32m~\\miniconda3\\lib\\site-packages\\meshpy\\tet.py:102\u001b[0m, in \u001b[0;36mMeshInfo.write_vtk\u001b[1;34m(self, filename)\u001b[0m\n\u001b[0;32m    101\u001b[0m \u001b[38;5;28;01mdef\u001b[39;00m \u001b[38;5;21mwrite_vtk\u001b[39m(\u001b[38;5;28mself\u001b[39m, filename):\n\u001b[1;32m--> 102\u001b[0m     \u001b[38;5;28;01mimport\u001b[39;00m \u001b[38;5;21;01mpyvtk\u001b[39;00m\n\u001b[0;32m    103\u001b[0m     vtkelements \u001b[38;5;241m=\u001b[39m pyvtk\u001b[38;5;241m.\u001b[39mVtkData(\n\u001b[0;32m    104\u001b[0m         pyvtk\u001b[38;5;241m.\u001b[39mUnstructuredGrid(\n\u001b[0;32m    105\u001b[0m             \u001b[38;5;28mself\u001b[39m\u001b[38;5;241m.\u001b[39mpoints,\n\u001b[0;32m    106\u001b[0m             tetra\u001b[38;5;241m=\u001b[39m\u001b[38;5;28mself\u001b[39m\u001b[38;5;241m.\u001b[39melements),\n\u001b[0;32m    107\u001b[0m         \u001b[38;5;124m\"\u001b[39m\u001b[38;5;124mMesh\u001b[39m\u001b[38;5;124m\"\u001b[39m)\n\u001b[0;32m    108\u001b[0m     vtkelements\u001b[38;5;241m.\u001b[39mtofile(filename)\n",
      "\u001b[1;31mModuleNotFoundError\u001b[0m: No module named 'pyvtk'"
     ]
    }
   ],
   "source": [
    "from meshpy.tet import MeshInfo, build\n",
    "\n",
    "mesh_info = MeshInfo()\n",
    "mesh_info.set_points([\n",
    "    (0,0,0), (2,0,0), (2,2,0), (0,2,0),\n",
    "    (0,0,12), (2,0,12), (2,2,12), (0,2,12),\n",
    "    ])\n",
    "mesh_info.set_facets([\n",
    "    [0,1,2,3],\n",
    "    [4,5,6,7],\n",
    "    [0,4,5,1],\n",
    "    [1,5,6,2],\n",
    "    [2,6,7,3],\n",
    "    [3,7,4,0],\n",
    "    ])\n",
    "mesh = build(mesh_info)\n",
    "print (\"Mesh Points:\")\n",
    "for i, p in enumerate(mesh.points):\n",
    "    print(i,p)\n",
    "print(\"Point numbers in tetrahedra:\")\n",
    "for i, t in enumerate(mesh.elements):\n",
    "    print(i,t)\n",
    "mesh.write_vtk(\"test.vtk\")"
   ]
  },
  {
   "cell_type": "code",
   "execution_count": 14,
   "id": "83a02a1e",
   "metadata": {},
   "outputs": [
    {
     "name": "stdout",
     "output_type": "stream",
     "text": [
      "  (0, 5)\t1\n",
      "  (0, 6)\t1\n",
      "  (0, 8)\t2\n"
     ]
    }
   ],
   "source": [
    "import numpy as np\n",
    "from scipy.sparse import csr_matrix\n",
    "\n",
    "arr = np.array([0, 0, 0, 0, 0, 1, 1, 0, 2])\n",
    "\n",
    "print(csr_matrix(arr))"
   ]
  },
  {
   "cell_type": "code",
   "execution_count": 15,
   "id": "34adaa48",
   "metadata": {},
   "outputs": [
    {
     "name": "stdout",
     "output_type": "stream",
     "text": [
      "[1 1 2]\n"
     ]
    }
   ],
   "source": [
    "import numpy as np\n",
    "from scipy.sparse import csr_matrix\n",
    "\n",
    "arr = np.array([[0, 0, 0], [0, 0, 1], [1, 0, 2]])\n",
    "\n",
    "print(csr_matrix(arr).data)"
   ]
  },
  {
   "cell_type": "code",
   "execution_count": 16,
   "id": "79afb478",
   "metadata": {},
   "outputs": [
    {
     "name": "stdout",
     "output_type": "stream",
     "text": [
      "  (1, 2)\t1\n",
      "  (2, 0)\t1\n",
      "  (2, 2)\t2\n"
     ]
    }
   ],
   "source": [
    "import numpy as np\n",
    "from scipy.sparse import csr_matrix\n",
    "\n",
    "arr = np.array([[0, 0, 0], [0, 0, 1], [1, 0, 2]])\n",
    "\n",
    "mat = csr_matrix(arr)\n",
    "mat.eliminate_zeros()\n",
    "\n",
    "print(mat)"
   ]
  },
  {
   "cell_type": "code",
   "execution_count": null,
   "id": "76b65bcd",
   "metadata": {},
   "outputs": [],
   "source": []
  }
 ],
 "metadata": {
  "kernelspec": {
   "display_name": "hello_kernel",
   "language": "python",
   "name": "hello_kernel"
  },
  "language_info": {
   "codemirror_mode": {
    "name": "ipython",
    "version": 3
   },
   "file_extension": ".py",
   "mimetype": "text/x-python",
   "name": "python",
   "nbconvert_exporter": "python",
   "pygments_lexer": "ipython3",
   "version": "3.10.9"
  }
 },
 "nbformat": 4,
 "nbformat_minor": 5
}
